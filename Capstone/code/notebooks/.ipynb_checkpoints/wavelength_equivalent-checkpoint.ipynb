{
 "cells": [
  {
   "cell_type": "code",
   "execution_count": 28,
   "metadata": {},
   "outputs": [],
   "source": [
    "def wavelength_equivalent(input_list):\n",
    "    \"\"\"fetch color hex values based on light wavelength values\"\"\"\n",
    "    import pandas as pd\n",
    "    import time\n",
    "    if not input_list:\n",
    "        print('Function was passed an empty list. No results generated')\n",
    "\n",
    "    else:\n",
    "\n",
    "        #get to web and page\n",
    "        colorlist = []\n",
    "        from selenium import webdriver\n",
    "\n",
    "        #create session and navigate to page\n",
    "        driver = webdriver.Chrome(\n",
    "            executable_path=\n",
    "            'C:/Users/Stuart/Documents/GitHub/DataScience/code/scripts/chromedriver.exe'\n",
    "        )\n",
    "        driver.get('https://www.johndcook.com/wavelength_to_RGB.html')\n",
    "        driver.implicitly_wait(3)\n",
    "\n",
    "        #set xpath values for page navigation\n",
    "        input_value = '/html/body/div/p[3]/input[1]'\n",
    "        convert_button = '/html/body/div/p[3]/input[2]'\n",
    "        result = '/html/body/div/p[4]'\n",
    "\n",
    "        #loop through wavelengths, store hex color code, clear input, and repeat\n",
    "        for element in input_list:\n",
    "            driver.find_element_by_xpath(input_value).send_keys(str(element))\n",
    "            driver.find_element_by_xpath(convert_button).click()\n",
    "            a = driver.find_element_by_xpath(result)\n",
    "            color = a.text\n",
    "            color_hex = color.partition('#')[2]\n",
    "            colorlist.append(color_hex)\n",
    "            time.sleep(1)\n",
    "            driver.find_element_by_xpath(input_value).clear()\n",
    "\n",
    "        #close the driver after looping\n",
    "        driver.quit()\n",
    "\n",
    "    return colorlist"
   ]
  }
 ],
 "metadata": {
  "kernelspec": {
   "display_name": "Python 3",
   "language": "python",
   "name": "python3"
  },
  "language_info": {
   "codemirror_mode": {
    "name": "ipython",
    "version": 3
   },
   "file_extension": ".py",
   "mimetype": "text/x-python",
   "name": "python",
   "nbconvert_exporter": "python",
   "pygments_lexer": "ipython3",
   "version": "3.7.4"
  },
  "toc": {
   "base_numbering": 1,
   "nav_menu": {},
   "number_sections": true,
   "sideBar": true,
   "skip_h1_title": false,
   "title_cell": "Table of Contents",
   "title_sidebar": "Contents",
   "toc_cell": false,
   "toc_position": {},
   "toc_section_display": true,
   "toc_window_display": false
  }
 },
 "nbformat": 4,
 "nbformat_minor": 2
}
