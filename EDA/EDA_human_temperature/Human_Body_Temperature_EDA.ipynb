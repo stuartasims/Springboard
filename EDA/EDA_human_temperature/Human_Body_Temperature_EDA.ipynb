{
 "cells": [
  {
   "cell_type": "markdown",
   "metadata": {},
   "source": [
    "# What is the True Normal Human Body Temperature? \n",
    "\n",
    "#### Background\n",
    "\n",
    "The mean normal body temperature was held to be 37$^{\\circ}$C or 98.6$^{\\circ}$F for more than 120 years since it was first conceptualized and reported by Carl Wunderlich in a famous 1868 book. But, is this value statistically correct?"
   ]
  },
  {
   "cell_type": "markdown",
   "metadata": {},
   "source": [
    "<h3>Exercises</h3>\n",
    "\n",
    "<p>In this exercise, you will analyze a dataset of human body temperatures and employ the concepts of hypothesis testing, confidence intervals, and statistical significance.</p>\n",
    "\n",
    "<p>Answer the following questions <b>in this notebook below and submit to your Github account</b>.</p> \n",
    "\n",
    "<ol>\n",
    "<li>  Is the distribution of body temperatures normal? \n",
    "    <ul>\n",
    "    <li> Although this is not a requirement for the Central Limit Theorem to hold (read the introduction on Wikipedia's page about the CLT carefully: https://en.wikipedia.org/wiki/Central_limit_theorem), it gives us some peace of mind that the population may also be normally distributed if we assume that this sample is representative of the population.\n",
    "    <li> Think about the way you're going to check for the normality of the distribution. Graphical methods are usually used first, but there are also other ways: https://en.wikipedia.org/wiki/Normality_test\n",
    "    </ul>\n",
    "<li>  Is the sample size large? Are the observations independent?\n",
    "    <ul>\n",
    "    <li> Remember that this is a condition for the Central Limit Theorem, and hence the statistical tests we are using, to apply.\n",
    "    </ul>\n",
    "<li>  Is the true population mean really 98.6 degrees F?\n",
    "    <ul>\n",
    "    <li> First, try a bootstrap hypothesis test.\n",
    "    <li> Now, let's try frequentist statistical testing. Would you use a one-sample or two-sample test? Why?\n",
    "    <li> In this situation, is it appropriate to use the $t$ or $z$ statistic? \n",
    "    <li> Now try using the other test. How is the result be different? Why?\n",
    "    </ul>\n",
    "<li>  Draw a small sample of size 10 from the data and repeat both frequentist tests. \n",
    "    <ul>\n",
    "    <li> Which one is the correct one to use? \n",
    "    <li> What do you notice? What does this tell you about the difference in application of the $t$ and $z$ statistic?\n",
    "    </ul>\n",
    "<li>  At what temperature should we consider someone's temperature to be \"abnormal\"?\n",
    "    <ul>\n",
    "    <li> As in the previous example, try calculating everything using the boostrap approach, as well as the frequentist approach.\n",
    "    <li> Start by computing the margin of error and confidence interval. When calculating the confidence interval, keep in mind that you should use the appropriate formula for one draw, and not N draws.\n",
    "    </ul>\n",
    "<li>  Is there a significant difference between males and females in normal temperature?\n",
    "    <ul>\n",
    "    <li> What testing approach did you use and why?\n",
    "    <li> Write a story with your conclusion in the context of the original problem.\n",
    "    </ul>\n",
    "</ol>\n",
    "\n",
    "You can include written notes in notebook cells using Markdown: \n",
    "   - In the control panel at the top, choose Cell > Cell Type > Markdown\n",
    "   - Markdown syntax: http://nestacms.com/docs/creating-content/markdown-cheat-sheet\n",
    "\n",
    "#### Resources\n",
    "\n",
    "+ Information and data sources: http://www.amstat.org/publications/jse/datasets/normtemp.txt, http://www.amstat.org/publications/jse/jse_data_archive.htm\n",
    "+ Markdown syntax: http://nestacms.com/docs/creating-content/markdown-cheat-sheet\n",
    "\n",
    "****"
   ]
  },
  {
   "cell_type": "code",
   "execution_count": 109,
   "metadata": {},
   "outputs": [],
   "source": [
    "import pandas as pd\n",
    "\n",
    "df = pd.read_csv('C:\\\\Users\\\\Stuart\\\\Documents\\\\GitHub\\\\Springboard\\\\EDA\\\\EDA_human_temperature\\\\data\\\\human_body_temperature.csv')"
   ]
  },
  {
   "cell_type": "markdown",
   "metadata": {},
   "source": [
    "#### Let's generate some quick descriptive statistics\n"
   ]
  },
  {
   "cell_type": "code",
   "execution_count": 110,
   "metadata": {
    "scrolled": true
   },
   "outputs": [
    {
     "name": "stdout",
     "output_type": "stream",
     "text": [
      "        temperature gender  heart_rate\n",
      "count    130.000000    130  130.000000\n",
      "unique          NaN      2         NaN\n",
      "top             NaN      F         NaN\n",
      "freq            NaN     65         NaN\n",
      "mean      98.249231    NaN   73.761538\n",
      "std        0.733183    NaN    7.062077\n",
      "min       96.300000    NaN   57.000000\n",
      "25%       97.800000    NaN   69.000000\n",
      "50%       98.300000    NaN   74.000000\n",
      "75%       98.700000    NaN   79.000000\n",
      "max      100.800000    NaN   89.000000 \n",
      "\n",
      "\n",
      "\n",
      "temperature    0\n",
      "gender         0\n",
      "heart_rate     0\n",
      "dtype: int64\n"
     ]
    }
   ],
   "source": [
    "print(df.describe(include='all'), '\\n\\n\\n')\n",
    "\n",
    "print(df.isnull().sum())"
   ]
  },
  {
   "cell_type": "markdown",
   "metadata": {},
   "source": [
    "It looks like the dataframe has 130 observations, each with a temperature, gender, and heart rate value. \n",
    "There do not appear to be any missing values, as the sum of null values is 0 for each field."
   ]
  },
  {
   "cell_type": "markdown",
   "metadata": {
    "collapsed": true
   },
   "source": [
    "### Visually checking for normality"
   ]
  },
  {
   "cell_type": "code",
   "execution_count": 111,
   "metadata": {
    "code_folding": [],
    "scrolled": false
   },
   "outputs": [
    {
     "data": {
      "image/png": "[encoded data removed]",
      "text/plain": [
       "<Figure size 432x288 with 1 Axes>"
      ]
     },
     "metadata": {
      "needs_background": "light"
     },
     "output_type": "display_data"
    },
    {
     "data": {
      "image/png": "[encoded data removed]",
      "text/plain": [
       "<Figure size 432x288 with 1 Axes>"
      ]
     },
     "metadata": {
      "needs_background": "light"
     },
     "output_type": "display_data"
    }
   ],
   "source": [
    "import matplotlib.pyplot as plt\n",
    "import seaborn as sns\n",
    "\n",
    "#histogram of temperature values for initial inspection\n",
    "sns.set_color_codes('dark')\n",
    "_ = sns.distplot(df['temperature'], bins=20, kde=False)\n",
    "_ = plt.xlabel('human body temperature (f)')\n",
    "_ = plt.ylabel('frequency')\n",
    "_ = plt.show()\n",
    "\n",
    "#plot cumulative distribution function (CDF) for a normal distribution with mu and sigma from temperatures and measured temperatures\n",
    "import numpy as np\n",
    "mu = np.mean(df['temperature'])\n",
    "sigma = np.std(df['temperature'])\n",
    "\n",
    "#sample a normal distribution using the mean and standard deviation sourced from temperature measurements\n",
    "samples = np.random.normal(mu, sigma, 50000)\n",
    "\n",
    "\n",
    "#define a function to create the CDF from a series\n",
    "def ecdf(data):\n",
    "    \"\"\"Compute the ECDF for a one-dimensional array of measurements.\"\"\"\n",
    "    #store length, n\n",
    "    n = len(data)\n",
    "\n",
    "    #sort the data and store, x\n",
    "    x = np.sort(data)\n",
    "\n",
    "    #probability the value of the distribution falls at or under that x value\n",
    "    y = np.arange(1, n + 1) / n\n",
    "\n",
    "    return x, y\n",
    "\n",
    "\n",
    "#create theoretical x and y arrays based on the sampled data from a normal distribution\n",
    "x_theor, y_theor = ecdf(samples)\n",
    "\n",
    "#create empirical x and y arrays based on temperatures\n",
    "x, y = ecdf(df['temperature'])\n",
    "\n",
    "#plot both emipircal and theoretical and visually compare\n",
    "_ = plt.plot(x_theor, y_theor, color=(28 / 256, 144 / 256, 153 / 256))\n",
    "_ = plt.plot(x,\n",
    "             y,\n",
    "             marker='.',\n",
    "             linestyle='none',\n",
    "             color=(227 / 256, 74 / 256, 51 / 256))\n",
    "_ = plt.xlabel('body temperature (f)')\n",
    "_ = plt.ylabel('ECDF')"
   ]
  },
  {
   "cell_type": "markdown",
   "metadata": {},
   "source": [
    "##### The ECDF visually suggests the distribution of body temperatures is normal\n",
    "##### However, we can test this interpretation\n",
    "    I chose scipy.stats.normaltest, as there is no need to re-invent the wheel here.\n",
    "    If the p value is less than the alpha value (I chose alpha at 0.05, a common standard), the null hypothesis that the\n",
    "    sample comes from a normal distribution cannot be rejected.\n"
   ]
  },
  {
   "cell_type": "code",
   "execution_count": 112,
   "metadata": {},
   "outputs": [
    {
     "name": "stdout",
     "output_type": "stream",
     "text": [
      "\n",
      "Normal test for the temperature data:\n",
      " NormaltestResult(statistic=2.703801433319203, pvalue=0.2587479863488254) \n",
      "\n",
      "The null hypothesis cannot be rejected. i.e. This can be considered normally distributed\n"
     ]
    }
   ],
   "source": [
    "#testing for normality using normaltest from scipy.stats\n",
    "from scipy import stats\n",
    "print('\\nNormal test for the temperature data:\\n',\n",
    "      stats.normaltest(df['temperature']), '\\n')\n",
    "\n",
    "#set alpha value for test\n",
    "alpha = 0.05\n",
    "\n",
    "#generate test statistica and probability value\n",
    "k2, p = stats.normaltest(df['temperature'])\n",
    "\n",
    "if p < alpha:  #H0: temperature comes from a normal distribution\n",
    "    print('The null hypothesis can be rejected')\n",
    "else:\n",
    "    print('The null hypothesis cannot be rejected. i.e. This can be considered normally distributed')"
   ]
  },
  {
   "cell_type": "markdown",
   "metadata": {},
   "source": [
    "### Is the central limit theorem appropriate here?\n",
    "\n",
    "randomization: given that we did not collect this data, we will assume the selection process for subjects was random.\n",
    "The gender balance is  even so that supports this idea.\n",
    "\n",
    "10% rule: The population is all humans, so 130 observations is certainly less than 10% of that number\n",
    "\n",
    "large enough sample size? The general rule is that n>=30 here. It can be slightly lower with some conditions met in the sample but at n=130 here, I believe the temperature sampling is large enough\n",
    "\n",
    "independent samples: It seems so. While it is not explicitly stated each sample was taken from a different person, it seems intutive to assume that for now.\n",
    "    "
   ]
  },
  {
   "cell_type": "markdown",
   "metadata": {},
   "source": [
    "####  98.6? Really?\n",
    "#### Let's test if 98.6 f is the true population mean based on this data"
   ]
  },
  {
   "cell_type": "code",
   "execution_count": 113,
   "metadata": {},
   "outputs": [
    {
     "name": "stdout",
     "output_type": "stream",
     "text": [
      "Probability the population mean is actually >= 98.6 given this sample:  0.0 %\n"
     ]
    }
   ],
   "source": [
    "#Bootstrap approach\n",
    "\n",
    "#create a function to draw bootstrap replicates\n",
    "def boostrap_replicate(data, func):\n",
    "    \"Draw boostrap replicate from one dimensional array\"\n",
    "    return func(np.random.choice(data, size=len(data)))\n",
    "\n",
    "#draw 10000, size, bootstrap samples and test the mean value\n",
    "size = 10000\n",
    "replicates = np.empty(size)\n",
    "for i in range(size):\n",
    "    replicates[i] = boostrap_replicate(df['temperature'], np.mean)\n",
    "    \n",
    "# generate probability that the mean body temp is greater than or equal to 98.6\n",
    "p = np.sum((replicates >= 98.6))/ len(replicates)\n",
    "\n",
    "\n",
    "print('Probability the population mean is actually >= 98.6 given this sample: ', p, '%')"
   ]
  },
  {
   "cell_type": "code",
   "execution_count": 114,
   "metadata": {
    "scrolled": true
   },
   "outputs": [
    {
     "name": "stdout",
     "output_type": "stream",
     "text": [
      "t-test: reject null hypothesis, mean is less than 98.6 \n",
      "\n",
      "t-test: test statistic:  -5.4548232923645195 \n",
      " two-tailed p value :  2.4106320415561276e-07 \n",
      "\n",
      "\n",
      "z-test: reject null hypothesis, sample mean is less than 98.6\n",
      "z-test: test statistic:  -5.4548232923645195 \n",
      " two-tailed p value :  4.9021570141012155e-08 \n",
      "\n",
      "\n"
     ]
    }
   ],
   "source": [
    "#frequentist testing\n",
    "\n",
    "# we'll use t tests, as the population temperature standard deviation is not known\n",
    "\n",
    "#set known mean, m\n",
    "m = 98.6\n",
    "\n",
    "#set alpha value for testing\n",
    "alpha = 0.05\n",
    "\n",
    "#one sample t test\n",
    "t_test_results = stats.ttest_1samp(df['temperature'], m)\n",
    "\n",
    "if (t_test_results[0] < 0) & (t_test_results[1]/2 < alpha):\n",
    "    print(\"t-test: reject null hypothesis, mean is less than {}\".format(m),'\\n')\n",
    "else:\n",
    "    print(\"t-test: accept null hypothesis\\n\")\n",
    "    \n",
    "print('t-test: test statistic: ', t_test_results[0],'\\n', 'two-tailed p value : ', t_test_results[1], '\\n\\n')\n",
    "\n",
    "#z test because instructions ask for that as well\n",
    "from statsmodels.stats import weightstats as stests\n",
    "\n",
    "\n",
    "z_test_results, p = stests.ztest(df['temperature'], value=98.6, alternative='two-sided')\n",
    "\n",
    "if p<alpha:\n",
    "    print(\"z-test: reject null hypothesis, sample mean is less than {}\".format(m))\n",
    "else:\n",
    "    print(\"z-test: accept null hypothesis, sample mean is not significantly different from {}\".format(m))\n",
    "print('z-test: test statistic: ', z_test_results,'\\n', 'two-tailed p value : ', p, '\\n\\n')"
   ]
  },
  {
   "cell_type": "markdown",
   "metadata": {},
   "source": [
    "It is clear that the sample mean is significantly lower than the population mean, as both t and z tests show negative directions in the test statistics and very low p values. Z tests are more appropriate with large sample sizes and a known population mean and variance. However, for testing, if the sample size is large enough then the sample variance can be assumed to be equal to the population variance. The sample size of this dataset is 130, so thats at 4x the recommended \"large\" sample size of 30 and likely why the results of the two tests do not differ in great ways.\n",
    "\n",
    "What if we draw a smaller sample out of the original temperatures?"
   ]
  },
  {
   "cell_type": "code",
   "execution_count": 115,
   "metadata": {},
   "outputs": [
    {
     "name": "stdout",
     "output_type": "stream",
     "text": [
      "t-test: reject null hypothesis, mean is less than 98.6 \n",
      "\n",
      "t-test: test statistic:  -2.9024458541066696 \n",
      " two-tailed p value :  0.017525443167050056 \n",
      "\n",
      "\n",
      "z-test: reject null hypothesis, mean is less than 98.6\n",
      "z-test: test statistic:  -2.90244585410667 \n",
      " two-tailed p value :  0.0037026116010279186 \n",
      "\n",
      "\n"
     ]
    }
   ],
   "source": [
    "#drawing a smaller sample, n=10 out of all temperatures and testing on that.\n",
    "few_temps = np.random.choice(df['temperature'], 10)\n",
    "\n",
    "#set known mean, m\n",
    "m = 98.6\n",
    "\n",
    "#set alpha value for testing\n",
    "alpha = 0.05\n",
    "\n",
    "#one sample t test\n",
    "t_test_results = stats.ttest_1samp(few_temps, m)\n",
    "\n",
    "if (t_test_results[0] < 0) & (t_test_results[1]/2 < alpha):\n",
    "    print(\"t-test: reject null hypothesis, mean is less than {}\".format(m),'\\n')\n",
    "else:\n",
    "    print(\"t-test: accept null hypothesis\\n\")\n",
    "    \n",
    "print('t-test: test statistic: ', t_test_results[0],'\\n', 'two-tailed p value : ', t_test_results[1], '\\n\\n')\n",
    "\n",
    "\n",
    "#z test because instructions ask for that\n",
    "from statsmodels.stats import weightstats as stests\n",
    "\n",
    "z_test_results, p = stests.ztest(few_temps, value=98.6, alternative='two-sided')\n",
    "\n",
    "if p<alpha:\n",
    "    print(\"z-test: reject null hypothesis, mean is less than {}\".format(m))\n",
    "else:\n",
    "    print(\"z-test: accept null hypothesis, mean is not significantly different from {}\".format(m))\n",
    "print('z-test: test statistic: ', z_test_results,'\\n', 'two-tailed p value : ', p, '\\n\\n')"
   ]
  },
  {
   "cell_type": "markdown",
   "metadata": {},
   "source": [
    "With a randomly selected smaller sampling of 10 points, the negative test statistic still shows the sample mean lower than the 98.6 value, but not as strongly. Similarly, the p values meet significance thresholds about half the time(note that random state is not set so results may or may not meet significance at alpha=0.05)."
   ]
  },
  {
   "cell_type": "markdown",
   "metadata": {},
   "source": [
    "#### Outlier Detection: What should we consider normal temperatures?\n",
    "\n",
    "\n",
    "At what temperature should we consider someone's temperature to be \"abnormal\"?\n",
    "As in the previous example, try calculating everything using the boostrap approach, as well as the frequentist approach.\n",
    "Start by computing the margin of error and confidence interval. When calculating the confidence interval, keep in mind that you should use the appropriate formula for one draw, and not N draws."
   ]
  },
  {
   "cell_type": "code",
   "execution_count": 116,
   "metadata": {},
   "outputs": [],
   "source": [
    "#boostrap approach\n",
    "\n",
    "def confidence_bootstrap_replicates(data, size=1, intervals=[2.5, 97.5]):\n",
    "    \"\"\"generate a boostrapped replicate and determine lower and upper confidence intervals in separate lists\"\"\"\n",
    "    lower_ci = []\n",
    "    upper_ci = []\n",
    "    for i in range(size):\n",
    "        a = np.random.choice(data, len(data))\n",
    "        lower, upper = np.percentile(a, intervals)\n",
    "        lower_ci.append(lower)\n",
    "        upper_ci.append(upper)\n",
    "    return lower_ci, upper_ci\n",
    "\n"
   ]
  },
  {
   "cell_type": "code",
   "execution_count": 117,
   "metadata": {},
   "outputs": [
    {
     "name": "stdout",
     "output_type": "stream",
     "text": [
      "with 99% confidence, the population mean temperature should be \n",
      "above:  96.46261414999998 \n",
      "below:  100.21804335 \n",
      "\n",
      "\n",
      "Records outside this interval: \n",
      "      temperature gender  heart_rate\n",
      "125         96.3      M        70.0\n",
      "39          96.4      F        69.0\n",
      "116        100.8      F        77.0\n"
     ]
    }
   ],
   "source": [
    "#identify lower and upper confidence intervals\n",
    "lower, upper = confidence_bootstrap_replicates(df['temperature'], size=10000, intervals=[0.5,99.5])\n",
    "\n",
    "#identify values falling outside the bootstrapped mean confidence interval values at 95% confidence\n",
    "print('with 99% confidence, the population mean temperature should be \\nabove: ',\n",
    "      np.mean(lower), '\\nbelow: ', np.mean(upper), '\\n\\n')\n",
    "print(\n",
    "    'Records outside this interval: \\n',\n",
    "    df[(df.temperature < np.mean(lower)) |\n",
    "       (df.temperature > np.mean(upper))].sort_values('temperature'))"
   ]
  },
  {
   "cell_type": "code",
   "execution_count": 118,
   "metadata": {},
   "outputs": [
    {
     "name": "stdout",
     "output_type": "stream",
     "text": [
      "at 2.5*sigma, the population mean temperature should be \n",
      "above:  96.42333632196818 \n",
      "below:  100.07512521649338 \n",
      "\n",
      "\n",
      "     temperature gender  heart_rate\n",
      "125         96.3      M        70.0\n",
      "39          96.4      F        69.0\n",
      "116        100.8      F        77.0\n"
     ]
    }
   ],
   "source": [
    "#frequentist approach to outliers\n",
    "\n",
    "#set thresholds at +-2.5*sigma\n",
    "upper_threshold = 2.5 * sigma + mu\n",
    "lower_threshold = -2.5 * sigma + mu\n",
    "\n",
    "print('at 2.5*sigma, the population mean temperature should be \\nabove: ',\n",
    "      lower_threshold, '\\nbelow: ', upper_threshold, '\\n\\n')\n",
    "\n",
    "#find records where temperature is outside 2.5 standard deviations\n",
    "print(df[(df.temperature > upper_threshold) |\n",
    "         (df.temperature < lower_threshold)].sort_values('temperature'))"
   ]
  },
  {
   "cell_type": "markdown",
   "metadata": {},
   "source": [
    "#### Differences based on sex\n",
    "\n",
    "Does temperature vary between sex classes? Let's find out"
   ]
  },
  {
   "cell_type": "code",
   "execution_count": 119,
   "metadata": {},
   "outputs": [
    {
     "name": "stdout",
     "output_type": "stream",
     "text": [
      "t-test: reject null hypothesis, Male Temperature mean is significantly different than Female Temperature Mean\n",
      "\n",
      "t-test: test statistic:  -2.2854345381656103 \n",
      " two-tailed p value :  0.02393188312239561 \n",
      "\n",
      "\n"
     ]
    },
    {
     "data": {
      "image/png": "[encoded data removed]",
      "text/plain": [
       "<Figure size 432x288 with 1 Axes>"
      ]
     },
     "metadata": {
      "needs_background": "light"
     },
     "output_type": "display_data"
    }
   ],
   "source": [
    "#separate temperatures based on sex\n",
    "m_temps = np.array(df['temperature'][df['gender'] == 'M'])\n",
    "f_temps = np.array(df['temperature'][df['gender'] == 'F'])\n",
    "\n",
    "#plot temperatures\n",
    "sns.boxplot(x='gender', y='temperature', data=df)\n",
    "plt.xlabel('Sex')\n",
    "plt.ylabel('Temperature')\n",
    "plt.title('Temperature Distribution Among Sex Classes')\n",
    "\n",
    "#use independent samples t test to test for means across two groups\n",
    "t_test_results = stats.ttest_ind(m_temps, f_temps, equal_var=True)\n",
    "\n",
    "#set threshold for alpha\n",
    "alpha = 0.05\n",
    "\n",
    "if (t_test_results[0] < 0) & (t_test_results[1]/2 < alpha):\n",
    "    print('t-test: reject null hypothesis, Male Temperature mean is significantly different than Female Temperature Mean\\n')\n",
    "else:\n",
    "    print(\"t-test: accept null hypothesis: Means do not differ significantly between sex classes\\n\")\n",
    "    \n",
    "print('t-test: test statistic: ', t_test_results[0],'\\n', 'two-tailed p value : ', t_test_results[1], '\\n\\n')"
   ]
  },
  {
   "cell_type": "markdown",
   "metadata": {},
   "source": [
    "Male temperatures are significantly lower than female temperatures based on this data. I used a two-tailed independent samples t test because it calculates the likelihood that the mean among two groups is equal. The negative direction in the test statistic shows that the Male mean is lower than the Female mean. This is corroborated by the boxplot of temperature among the sex classes.\n",
    "\n",
    "Given the entirety of this exploratory analysis, the population mean that everyone knows by heart (98.6) does fall in the 99% confidence interval given this sample. I would not refute that as a possible value for the population mean. However, If this sample is randomly collected from individuals across the globe, it is a compelling case to propose an alternative value that is lower than 98.6. Confidence intervals would shrink given additional sampling which seems easy enough to source from medical care at a broader scale."
   ]
  }
 ],
 "metadata": {
  "kernelspec": {
   "display_name": "Python 3",
   "language": "python",
   "name": "python3"
  },
  "language_info": {
   "codemirror_mode": {
    "name": "ipython",
    "version": 3
   },
   "file_extension": ".py",
   "mimetype": "text/x-python",
   "name": "python",
   "nbconvert_exporter": "python",
   "pygments_lexer": "ipython3",
   "version": "3.7.4"
  }
 },
 "nbformat": 4,
 "nbformat_minor": 1
}
